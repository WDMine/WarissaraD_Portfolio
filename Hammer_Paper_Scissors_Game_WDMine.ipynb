{
  "nbformat": 4,
  "nbformat_minor": 0,
  "metadata": {
    "colab": {
      "provenance": [],
      "authorship_tag": "ABX9TyND2EuHEG8NbJoNtoG7JZ6W",
      "include_colab_link": true
    },
    "kernelspec": {
      "name": "ir",
      "display_name": "R"
    },
    "language_info": {
      "name": "R"
    }
  },
  "cells": [
    {
      "cell_type": "markdown",
      "metadata": {
        "id": "view-in-github",
        "colab_type": "text"
      },
      "source": [
        "<a href=\"https://colab.research.google.com/github/WDMine/WarissaraD_Portfolio/blob/main/Hammer_Paper_Scissors_Game_WDMine.ipynb\" target=\"_parent\"><img src=\"https://colab.research.google.com/assets/colab-badge.svg\" alt=\"Open In Colab\"/></a>"
      ]
    },
    {
      "cell_type": "markdown",
      "source": [
        "#**Hammer, Paper, Scissors Game**"
      ],
      "metadata": {
        "id": "c6B6WVg_ieJF"
      }
    },
    {
      "cell_type": "code",
      "source": [
        "game = function () {\n",
        "# Initialize variables\n",
        "    player_name <- \"\"\n",
        "    player_score <- 0\n",
        "    computer_score <- 0\n",
        "\n",
        "# Greet the player\n",
        "    print(\"Welcome to the Hammer, Paper, Scissors game!\")\n",
        "                flush.console()\n",
        "\n",
        "# Get the player's name\n",
        "    player_name <- readline(\"Please enter your name: \")\n",
        "                flush.console()\n",
        "\n",
        "# Start the game loop\n",
        "    while (TRUE) {\n",
        "\n",
        "        # Get player's choice\n",
        "            player_choice <- readline(\"Please choose hammer, paper, or scissors: \")\n",
        "                flush.console()\n",
        "\n",
        "        # Validate choice\n",
        "            if (!(player_choice %in% c(\"hammer\", \"paper\", \"scissors\"))) {\n",
        "                print(\"Invalid choice. Please choose hammer, paper, or scissors.\")\n",
        "                    flush.console()\n",
        "            next\n",
        "            }\n",
        "\n",
        "        # Computer choice\n",
        "            computer_choice <- sample(c(\"hammer\", \"paper\", \"scissors\"), 1)\n",
        "                print(paste(\"Computer chose:\", computer_choice))\n",
        "                     flush.console()\n",
        "\n",
        "  # Determine winner\n",
        "    if (player_choice == computer_choice) {\n",
        "            print(\"Draw!\")\n",
        "                flush.console()\n",
        "    } else if (player_choice == \"hammer\" && computer_choice == \"scissors\") {\n",
        "        player_score <- player_score + 1\n",
        "            print(\"You win!\")\n",
        "                flush.console()\n",
        "    }else if (player_choice == \"paper\" && computer_choice == \"rock\") {\n",
        "        player_score <- player_score + 1\n",
        "            print(\"You win!\")\n",
        "                flush.console()\n",
        "    } else if (player_choice == \"scissors\" && computer_choice == \"paper\") {\n",
        "        player_score <- player_score + 1\n",
        "            print(\"You win!\")\n",
        "                flush.console()\n",
        "    } else {\n",
        "        computer_score <- computer_score + 1\n",
        "            print(\"Computer wins!\")\n",
        "                flush.console()\n",
        "    }\n",
        "\n",
        "  # Display scores\n",
        "    print(paste(\"Your score:\", player_score))\n",
        "                flush.console()\n",
        "\n",
        "    print(paste(\"Computer score:\", computer_score))\n",
        "                flush.console()\n",
        "\n",
        "# Ask to play again\n",
        "    # Play again loop\n",
        "        while(TRUE) {\n",
        "\n",
        "            play_again <- readline(\"Play again? (y/n)\")\n",
        "            play_again <- tolower(play_again)\n",
        "\n",
        "                 if(play_again == \"y\") {\n",
        "                        flush.console()\n",
        "                break\n",
        "\n",
        "                }   else if(play_again == \"n\") {\n",
        "                        flush.console()\n",
        "                    return(\"Thank you for playing!\")\n",
        "\n",
        "                    }   else {\n",
        "                        print(\"Invalid input, please enter y or n\")\n",
        "                            flush.console()\n",
        "                    next\n",
        "                        }\n",
        "            }\n",
        "    }\n",
        "}\n"
      ],
      "metadata": {
        "id": "xQwpvMKDipGy"
      },
      "execution_count": null,
      "outputs": []
    },
    {
      "cell_type": "code",
      "source": [
        "game()\n"
      ],
      "metadata": {
        "id": "uZNO0Wp4rF1D"
      },
      "execution_count": null,
      "outputs": []
    }
  ]
}